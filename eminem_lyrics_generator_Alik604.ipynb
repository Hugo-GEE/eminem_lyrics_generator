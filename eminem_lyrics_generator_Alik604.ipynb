{
  "nbformat": 4,
  "nbformat_minor": 0,
  "metadata": {
    "kernelspec": {
      "display_name": "Python 3",
      "language": "python",
      "name": "python3"
    },
    "language_info": {
      "codemirror_mode": {
        "name": "ipython",
        "version": 3
      },
      "file_extension": ".py",
      "mimetype": "text/x-python",
      "name": "python",
      "nbconvert_exporter": "python",
      "pygments_lexer": "ipython3",
      "version": "3.6.9"
    },
    "colab": {
      "name": "eminem_lyrics_generator - Alik604",
      "provenance": [],
      "collapsed_sections": [
        "NnTDRtAZCt6H"
      ],
      "toc_visible": true
    },
    "accelerator": "GPU"
  },
  "cells": [
    {
      "cell_type": "markdown",
      "metadata": {
        "id": "g8OTK5zjhteN",
        "colab_type": "text"
      },
      "source": [
        "# By Alik604\n",
        "## Adapted from https://github.com/rojagtap/eminem_lyrics_generator\n",
        "> "
      ]
    },
    {
      "cell_type": "code",
      "metadata": {
        "id": "5rS6LXXTDcH6",
        "colab_type": "code",
        "outputId": "f6909344-b586-4a0e-b66e-f4a0c640c6f0",
        "colab": {
          "base_uri": "https://localhost:8080/",
          "height": 34
        }
      },
      "source": [
        "from google.colab import drive\n",
        "drive.mount('/content/drive')"
      ],
      "execution_count": 2,
      "outputs": [
        {
          "output_type": "stream",
          "text": [
            "Drive already mounted at /content/drive; to attempt to forcibly remount, call drive.mount(\"/content/drive\", force_remount=True).\n"
          ],
          "name": "stdout"
        }
      ]
    },
    {
      "cell_type": "code",
      "metadata": {
        "id": "vPVy45HHFOG8",
        "colab_type": "code",
        "colab": {
          "base_uri": "https://localhost:8080/",
          "height": 34
        },
        "outputId": "63490378-22da-4470-f600-0586fdedbf3f"
      },
      "source": [
        "cd /content/drive/My Drive/Data"
      ],
      "execution_count": 22,
      "outputs": [
        {
          "output_type": "stream",
          "text": [
            "/content/drive/My Drive/Data\n"
          ],
          "name": "stdout"
        }
      ]
    },
    {
      "cell_type": "code",
      "metadata": {
        "id": "R7RNVjXQ-0ZK",
        "colab_type": "code",
        "colab": {}
      },
      "source": [
        "import pandas as pd\n",
        "import numpy as np\n",
        "import re\n",
        "import os\n",
        "import glob\n",
        "import json"
      ],
      "execution_count": 0,
      "outputs": []
    },
    {
      "cell_type": "markdown",
      "metadata": {
        "id": "NnTDRtAZCt6H",
        "colab_type": "text"
      },
      "source": [
        "# Starting Preprocessing - Check point\n",
        "> This can be disreguarded as data is provided a single .csv"
      ]
    },
    {
      "cell_type": "code",
      "metadata": {
        "id": "a4vc42jUjCgg",
        "colab_type": "code",
        "colab": {}
      },
      "source": [
        "## retain\n",
        "\n",
        "# !pip install lyricsgenius\n",
        "# import lyricsgenius\n",
        "# genius = lyricsgenius.Genius(\"8AO32_nfbxk_8yNyBYJTnw_4qRjT2Uid1pMSW_XJ_56sBsnNLuXeKxwMMEZmQrQN\") # this is a valid key :) \n",
        "# artist = genius.search_artist(\"Eminem\", max_songs=100, sort='popularity') # XXXTENTACION \n",
        "# for i in range(100):\n",
        "#   artist.songs[i].save_lyrics()"
      ],
      "execution_count": 0,
      "outputs": []
    },
    {
      "cell_type": "code",
      "metadata": {
        "id": "R94zWarKjCm1",
        "colab_type": "code",
        "colab": {}
      },
      "source": [
        "# lines = []\n",
        "# i = 1\n",
        "# for root, dirs, files in os.walk('./raw'):\n",
        "#     for file in files:\n",
        "#         if file.endswith('.json') and 'xxxtentacion' in file : # eminem  # xxxtentacion\n",
        "#             file = open(\"./raw/\" + file)\n",
        "#             json_data = file.read()\n",
        "#             data = json.loads(json_data)\n",
        "#             lines.append(data['lyrics'])\n",
        "#             i +=1\n",
        "# print(i)\n",
        "# lines = list(filter(None, lines))\n",
        "# # lines"
      ],
      "execution_count": 0,
      "outputs": []
    },
    {
      "cell_type": "code",
      "metadata": {
        "id": "tNTXifyV-0aI",
        "colab_type": "code",
        "colab": {}
      },
      "source": [
        "# def clean_text(sentence):\n",
        "#   sentence = sentence.lower()\n",
        "#   sentence = re.sub(r'\\[.*?\\]', \"\", sentence) # https://www.regextester.com/97589 &  https://stackoverflow.com/a/40621332\n",
        "#   sentence = re.sub(r\"\\u2005\", \"\", sentence)\n",
        "\n",
        "#   sentence = re.sub(r\"’\", \"\\'\", sentence) \n",
        "#   sentence = re.sub(r\"‘\", \"\\'\", sentence)\n",
        "#   sentence = re.sub(r\"i'm\", \"i am\", sentence)\n",
        "#   sentence = re.sub(r\"he's\", \"he is\", sentence)\n",
        "#   sentence = re.sub(r\"she's\", \"she is\", sentence)\n",
        "#   sentence = re.sub(r\"it's\", \"it is\", sentence)\n",
        "#   sentence = re.sub(r\"that's\", \"that is\", sentence)\n",
        "#   sentence = re.sub(r\"what's\", \"what is\", sentence)\n",
        "#   sentence = re.sub(r\"where's\", \"where is\", sentence)\n",
        "#   sentence = re.sub(r\"there's\", \"there is\", sentence)\n",
        "#   sentence = re.sub(r\"who's\", \"who is\", sentence)\n",
        "#   sentence = re.sub(r\"how's\", \"how is\", sentence)\n",
        "#   sentence = re.sub(r\"\\'ll\", \" will\", sentence)\n",
        "#   sentence = re.sub(r\"\\'ve\", \" have\", sentence)\n",
        "#   sentence = re.sub(r\"\\'re\", \" are\", sentence)\n",
        "#   sentence = re.sub(r\"\\'d\", \" would\", sentence)\n",
        "#   sentence = re.sub(r\"won't\", \"will not\", sentence)\n",
        "#   sentence = re.sub(r\"can't\", \"cannot\", sentence)\n",
        "#   sentence = re.sub(r\"n't\", \" not\", sentence)\n",
        "#   sentence = re.sub(r\"n'\", \"ng\", sentence)\n",
        "#   sentence = re.sub(r\"\\'bout\", \"about\", sentence)\n",
        "#   sentence = re.sub(r\"'til\", \"until\", sentence)\n",
        "#   sentence = re.sub(r\"c'mon\", \"come on\", sentence)\n",
        "#   sentence = re.sub(\"\\n\", \" \", sentence)\n",
        "\n",
        "#   sentence = re.sub(r\"\\u2005\", \"\", sentence)\n",
        "#   sentence = re.sub(\"[-*/()\\\"’‘'#/@;:<>{}`+=~|.!?,]\", \"\", sentence) # should it be:  \\'   rather than '   \n",
        "#   sentence = re.sub(r\"'\", \"\", sentence)\n",
        "#   sentence = re.sub(r\"\\t\", \"\", sentence)\n",
        "#   sentence = re.sub(r\"  \", \" \", sentence)\n",
        "#   sentence = re.sub(r\"  \", \" \", sentence)\n",
        "#   return sentence\n",
        "# lines = pd.DataFrame(lines, columns=['lines'])\n",
        "# lines.lines = lines.lines.apply(lambda line: clean_text(line))\n",
        "# lines.values\n",
        "\n",
        "# lines.to_csv('./preprocessed_data_xxxtentacion.csv')"
      ],
      "execution_count": 0,
      "outputs": []
    },
    {
      "cell_type": "markdown",
      "metadata": {
        "id": "ypQd-Umh7jEj",
        "colab_type": "text"
      },
      "source": [
        "# Starting ML - Check point"
      ]
    },
    {
      "cell_type": "code",
      "metadata": {
        "id": "ggswMub774Hh",
        "colab_type": "code",
        "colab": {
          "base_uri": "https://localhost:8080/",
          "height": 1000
        },
        "outputId": "096950f0-769c-4677-9479-a98870f2a1e7"
      },
      "source": [
        "# lines = pd.read_csv('https://github.com/alik604/eminem_lyrics_generator/raw/master/data/preprocessed_data_eminem.csv',index_col=0)\n",
        "lines = pd.read_csv('https://raw.githubusercontent.com/alik604/eminem_lyrics_generator/master/data/preprocessed_data_xxxtentacion.csv',index_col=0)\n",
        "\n",
        "lines"
      ],
      "execution_count": 45,
      "outputs": [
        {
          "output_type": "execute_result",
          "data": {
            "text/html": [
              "<div>\n",
              "<style scoped>\n",
              "    .dataframe tbody tr th:only-of-type {\n",
              "        vertical-align: middle;\n",
              "    }\n",
              "\n",
              "    .dataframe tbody tr th {\n",
              "        vertical-align: top;\n",
              "    }\n",
              "\n",
              "    .dataframe thead th {\n",
              "        text-align: right;\n",
              "    }\n",
              "</style>\n",
              "<table border=\"1\" class=\"dataframe\">\n",
              "  <thead>\n",
              "    <tr style=\"text-align: right;\">\n",
              "      <th></th>\n",
              "      <th>lines</th>\n",
              "    </tr>\n",
              "  </thead>\n",
              "  <tbody>\n",
              "    <tr>\n",
              "      <th>0</th>\n",
              "      <td>ttto bass be the glory oh my dududu huh bubu ...</td>\n",
              "    </tr>\n",
              "    <tr>\n",
              "      <th>1</th>\n",
              "      <td>ayy i am like bitch who is your mans ayy cann...</td>\n",
              "    </tr>\n",
              "    <tr>\n",
              "      <th>2</th>\n",
              "      <td>i think i i think i finally found a way to fo...</td>\n",
              "    </tr>\n",
              "    <tr>\n",
              "      <th>3</th>\n",
              "      <td>ooh ahh ahh ahh do not go do not go to sleep ...</td>\n",
              "    </tr>\n",
              "    <tr>\n",
              "      <th>4</th>\n",
              "      <td>mmm baby i do not understand this you are cha...</td>\n",
              "    </tr>\n",
              "    <tr>\n",
              "      <th>5</th>\n",
              "      <td>yeah spotlight uh moonlight uh nigga why you ...</td>\n",
              "    </tr>\n",
              "    <tr>\n",
              "      <th>6</th>\n",
              "      <td>it will all be over soon and i am always wher...</td>\n",
              "    </tr>\n",
              "    <tr>\n",
              "      <th>7</th>\n",
              "      <td>yeah rest in peace to all the kids that lost ...</td>\n",
              "    </tr>\n",
              "    <tr>\n",
              "      <th>8</th>\n",
              "      <td>why am i so in love why am i so in love why a...</td>\n",
              "    </tr>\n",
              "    <tr>\n",
              "      <th>9</th>\n",
              "      <td>yeah shawty heard you bad word so profane som...</td>\n",
              "    </tr>\n",
              "    <tr>\n",
              "      <th>10</th>\n",
              "      <td>how did you get here i am drunk and confused ...</td>\n",
              "    </tr>\n",
              "    <tr>\n",
              "      <th>11</th>\n",
              "      <td>i should have let you know that you are my on...</td>\n",
              "    </tr>\n",
              "    <tr>\n",
              "      <th>12</th>\n",
              "      <td>up there yeah who do i have heaven and hell m...</td>\n",
              "    </tr>\n",
              "    <tr>\n",
              "      <th>13</th>\n",
              "      <td>na na na na na na na na na na na na na na na ...</td>\n",
              "    </tr>\n",
              "    <tr>\n",
              "      <th>14</th>\n",
              "      <td>since you never gave a damn in the first plac...</td>\n",
              "    </tr>\n",
              "    <tr>\n",
              "      <th>15</th>\n",
              "      <td>i shot an angel with my fathers rifle i shoul...</td>\n",
              "    </tr>\n",
              "    <tr>\n",
              "      <th>16</th>\n",
              "      <td>luke white on the beat you ever seen a nigga ...</td>\n",
              "    </tr>\n",
              "    <tr>\n",
              "      <th>17</th>\n",
              "      <td>mamita vente mamita vente mamita vente mamita...</td>\n",
              "    </tr>\n",
              "    <tr>\n",
              "      <th>18</th>\n",
              "      <td>yeah oh my god ronny it is a vibe yeah feelin...</td>\n",
              "    </tr>\n",
              "    <tr>\n",
              "      <th>19</th>\n",
              "      <td>hehe yeah you know i am posted in the booth w...</td>\n",
              "    </tr>\n",
              "    <tr>\n",
              "      <th>20</th>\n",
              "      <td>hey there you looking for a brighter season y...</td>\n",
              "    </tr>\n",
              "    <tr>\n",
              "      <th>21</th>\n",
              "      <td>llew os uoy wonk i —ytterp neeb evi nac eh na...</td>\n",
              "    </tr>\n",
              "    <tr>\n",
              "      <th>22</th>\n",
              "      <td>yah yah yah yah yah haha members only volume ...</td>\n",
              "    </tr>\n",
              "    <tr>\n",
              "      <th>23</th>\n",
              "      <td>and hell is just a government creation and al...</td>\n",
              "    </tr>\n",
              "    <tr>\n",
              "      <th>24</th>\n",
              "      <td>and every single year i am drowning in my tea...</td>\n",
              "    </tr>\n",
              "    <tr>\n",
              "      <th>25</th>\n",
              "      <td>dead inside spend a lot of time stuck in this...</td>\n",
              "    </tr>\n",
              "    <tr>\n",
              "      <th>26</th>\n",
              "      <td>oohoohooh got you grinding all on that riding...</td>\n",
              "    </tr>\n",
              "    <tr>\n",
              "      <th>27</th>\n",
              "      <td>i remember i had walked home that day content...</td>\n",
              "    </tr>\n",
              "    <tr>\n",
              "      <th>28</th>\n",
              "      <td>i cannot seem to find someones shoulder who w...</td>\n",
              "    </tr>\n",
              "    <tr>\n",
              "      <th>29</th>\n",
              "      <td>as a fair warning to everyone listening to th...</td>\n",
              "    </tr>\n",
              "    <tr>\n",
              "      <th>30</th>\n",
              "      <td>okay i am way too good at this shit i do not ...</td>\n",
              "    </tr>\n",
              "    <tr>\n",
              "      <th>31</th>\n",
              "      <td>oh my god ronny oh she ratchet i might smash ...</td>\n",
              "    </tr>\n",
              "    <tr>\n",
              "      <th>32</th>\n",
              "      <td>ooh ohoh ohoh she showed me fake love cannot ...</td>\n",
              "    </tr>\n",
              "    <tr>\n",
              "      <th>33</th>\n",
              "      <td>leave me alone i wanna go home it is all in m...</td>\n",
              "    </tr>\n",
              "    <tr>\n",
              "      <th>34</th>\n",
              "      <td>—ference but a very important one and it was ...</td>\n",
              "    </tr>\n",
              "    <tr>\n",
              "      <th>35</th>\n",
              "      <td>hey hey hey i just fucked my ex bitch pull up...</td>\n",
              "    </tr>\n",
              "    <tr>\n",
              "      <th>36</th>\n",
              "      <td>i put one in that chamber lay you in the face...</td>\n",
              "    </tr>\n",
              "    <tr>\n",
              "      <th>37</th>\n",
              "      <td>i was like whoaohoh whoaohoh whoawoahoh whoao...</td>\n",
              "    </tr>\n",
              "    <tr>\n",
              "      <th>38</th>\n",
              "      <td>so much hate at the top it is a lonely place ...</td>\n",
              "    </tr>\n",
              "    <tr>\n",
              "      <th>39</th>\n",
              "      <td>yeah sometimes i do not let go i shine i shin...</td>\n",
              "    </tr>\n",
              "    <tr>\n",
              "      <th>40</th>\n",
              "      <td>lost in regret i feel so deeply i cannot seem...</td>\n",
              "    </tr>\n",
              "    <tr>\n",
              "      <th>41</th>\n",
              "      <td>lyrics from snippet father forgive me for you ...</td>\n",
              "    </tr>\n",
              "    <tr>\n",
              "      <th>42</th>\n",
              "      <td>where you said you going he cannot fuck you l...</td>\n",
              "    </tr>\n",
              "    <tr>\n",
              "      <th>43</th>\n",
              "      <td>heart eater why would you eat my heart alive ...</td>\n",
              "    </tr>\n",
              "    <tr>\n",
              "      <th>44</th>\n",
              "      <td>you will see bad vibes forever itwillallbeove...</td>\n",
              "    </tr>\n",
              "    <tr>\n",
              "      <th>45</th>\n",
              "      <td>how is it feel how is it feel with your broke...</td>\n",
              "    </tr>\n",
              "    <tr>\n",
              "      <th>46</th>\n",
              "      <td>ahem yeah i was staring at the sky singing to...</td>\n",
              "    </tr>\n",
              "    <tr>\n",
              "      <th>47</th>\n",
              "      <td>sing me a sad song top of the morning too by ...</td>\n",
              "    </tr>\n",
              "    <tr>\n",
              "      <th>48</th>\n",
              "      <td>what are you so afraid of is it love or wasti...</td>\n",
              "    </tr>\n",
              "    <tr>\n",
              "      <th>49</th>\n",
              "      <td>royalty royalty inna mi bloodline dem soldier...</td>\n",
              "    </tr>\n",
              "    <tr>\n",
              "      <th>50</th>\n",
              "      <td>yeah there she was with the blade in her hand...</td>\n",
              "    </tr>\n",
              "    <tr>\n",
              "      <th>51</th>\n",
              "      <td>duh duh duh duh duh duh duh duh duh duh canno...</td>\n",
              "    </tr>\n",
              "    <tr>\n",
              "      <th>52</th>\n",
              "      <td>got it on smash foreign spanish jawn really l...</td>\n",
              "    </tr>\n",
              "    <tr>\n",
              "      <th>53</th>\n",
              "      <td>voices in your voices in your voices in your ...</td>\n",
              "    </tr>\n",
              "    <tr>\n",
              "      <th>54</th>\n",
              "      <td>i drink blood of school shooters slit throat ...</td>\n",
              "    </tr>\n",
              "    <tr>\n",
              "      <th>55</th>\n",
              "      <td>i dream so much and i just cannot seem to fin...</td>\n",
              "    </tr>\n",
              "  </tbody>\n",
              "</table>\n",
              "</div>"
            ],
            "text/plain": [
              "                                                lines\n",
              "0    ttto bass be the glory oh my dududu huh bubu ...\n",
              "1    ayy i am like bitch who is your mans ayy cann...\n",
              "2    i think i i think i finally found a way to fo...\n",
              "3    ooh ahh ahh ahh do not go do not go to sleep ...\n",
              "4    mmm baby i do not understand this you are cha...\n",
              "5    yeah spotlight uh moonlight uh nigga why you ...\n",
              "6    it will all be over soon and i am always wher...\n",
              "7    yeah rest in peace to all the kids that lost ...\n",
              "8    why am i so in love why am i so in love why a...\n",
              "9    yeah shawty heard you bad word so profane som...\n",
              "10   how did you get here i am drunk and confused ...\n",
              "11   i should have let you know that you are my on...\n",
              "12   up there yeah who do i have heaven and hell m...\n",
              "13   na na na na na na na na na na na na na na na ...\n",
              "14   since you never gave a damn in the first plac...\n",
              "15   i shot an angel with my fathers rifle i shoul...\n",
              "16   luke white on the beat you ever seen a nigga ...\n",
              "17   mamita vente mamita vente mamita vente mamita...\n",
              "18   yeah oh my god ronny it is a vibe yeah feelin...\n",
              "19   hehe yeah you know i am posted in the booth w...\n",
              "20   hey there you looking for a brighter season y...\n",
              "21   llew os uoy wonk i —ytterp neeb evi nac eh na...\n",
              "22   yah yah yah yah yah haha members only volume ...\n",
              "23   and hell is just a government creation and al...\n",
              "24   and every single year i am drowning in my tea...\n",
              "25   dead inside spend a lot of time stuck in this...\n",
              "26   oohoohooh got you grinding all on that riding...\n",
              "27   i remember i had walked home that day content...\n",
              "28   i cannot seem to find someones shoulder who w...\n",
              "29   as a fair warning to everyone listening to th...\n",
              "30   okay i am way too good at this shit i do not ...\n",
              "31   oh my god ronny oh she ratchet i might smash ...\n",
              "32   ooh ohoh ohoh she showed me fake love cannot ...\n",
              "33   leave me alone i wanna go home it is all in m...\n",
              "34   —ference but a very important one and it was ...\n",
              "35   hey hey hey i just fucked my ex bitch pull up...\n",
              "36   i put one in that chamber lay you in the face...\n",
              "37   i was like whoaohoh whoaohoh whoawoahoh whoao...\n",
              "38   so much hate at the top it is a lonely place ...\n",
              "39   yeah sometimes i do not let go i shine i shin...\n",
              "40   lost in regret i feel so deeply i cannot seem...\n",
              "41  lyrics from snippet father forgive me for you ...\n",
              "42   where you said you going he cannot fuck you l...\n",
              "43   heart eater why would you eat my heart alive ...\n",
              "44   you will see bad vibes forever itwillallbeove...\n",
              "45   how is it feel how is it feel with your broke...\n",
              "46   ahem yeah i was staring at the sky singing to...\n",
              "47   sing me a sad song top of the morning too by ...\n",
              "48   what are you so afraid of is it love or wasti...\n",
              "49   royalty royalty inna mi bloodline dem soldier...\n",
              "50   yeah there she was with the blade in her hand...\n",
              "51   duh duh duh duh duh duh duh duh duh duh canno...\n",
              "52   got it on smash foreign spanish jawn really l...\n",
              "53   voices in your voices in your voices in your ...\n",
              "54   i drink blood of school shooters slit throat ...\n",
              "55   i dream so much and i just cannot seem to fin..."
            ]
          },
          "metadata": {
            "tags": []
          },
          "execution_count": 45
        }
      ]
    },
    {
      "cell_type": "code",
      "metadata": {
        "id": "VKEfXByiFq_5",
        "colab_type": "code",
        "colab": {}
      },
      "source": [
        "lines.lines = lines.lines.apply(lambda line: line.split())"
      ],
      "execution_count": 0,
      "outputs": []
    },
    {
      "cell_type": "code",
      "metadata": {
        "id": "EX8mMxFv-0a5",
        "colab_type": "code",
        "colab": {}
      },
      "source": [
        "x_train = [line[:-1] for line in lines.lines]\n",
        "y_train = [line[1:] for line in lines.lines]"
      ],
      "execution_count": 0,
      "outputs": []
    },
    {
      "cell_type": "code",
      "metadata": {
        "id": "t6cueFD--0bb",
        "colab_type": "code",
        "colab": {}
      },
      "source": [
        "from tensorflow.keras.preprocessing.text import Tokenizer\n",
        "from tensorflow.keras.preprocessing.sequence import pad_sequences"
      ],
      "execution_count": 0,
      "outputs": []
    },
    {
      "cell_type": "code",
      "metadata": {
        "id": "tT51cTsN-0bm",
        "colab_type": "code",
        "colab": {}
      },
      "source": [
        "tokenizer = Tokenizer()\n",
        "# type(lines) # DF\n",
        "# type(lines.lines) # Series0"
      ],
      "execution_count": 0,
      "outputs": []
    },
    {
      "cell_type": "code",
      "metadata": {
        "id": "wsTwQX2a-0by",
        "colab_type": "code",
        "colab": {}
      },
      "source": [
        "tokenizer.fit_on_texts(lines.lines)"
      ],
      "execution_count": 0,
      "outputs": []
    },
    {
      "cell_type": "code",
      "metadata": {
        "id": "xyZARYVe-0b-",
        "colab_type": "code",
        "colab": {}
      },
      "source": [
        "x_train = tokenizer.texts_to_sequences(x_train)\n",
        "y_train = tokenizer.texts_to_sequences(y_train)"
      ],
      "execution_count": 0,
      "outputs": []
    },
    {
      "cell_type": "code",
      "metadata": {
        "id": "JivHjswYQqsD",
        "colab_type": "code",
        "colab": {}
      },
      "source": [
        "word2idx = tokenizer.word_index\n",
        "idx2word = {value: key for key, value in word2idx.items()}"
      ],
      "execution_count": 0,
      "outputs": []
    },
    {
      "cell_type": "code",
      "metadata": {
        "colab_type": "code",
        "id": "gc1P4IYWlDzV",
        "colab": {}
      },
      "source": [
        "word2idx[\"<pad>\"] = 0\n",
        "idx2word[0] = \"<pad>\""
      ],
      "execution_count": 0,
      "outputs": []
    },
    {
      "cell_type": "code",
      "metadata": {
        "id": "hYmlGZ8E-0cQ",
        "colab_type": "code",
        "outputId": "6b89cee1-fb52-4f40-f1a3-47a559c73515",
        "colab": {
          "base_uri": "https://localhost:8080/",
          "height": 168
        }
      },
      "source": [
        "lengths = []\n",
        "\n",
        "for sequence in x_train:\n",
        "    lengths.append(len(sequence))\n",
        "    \n",
        "lengths = pd.Series(lengths)\n",
        "lengths.describe()"
      ],
      "execution_count": 54,
      "outputs": [
        {
          "output_type": "execute_result",
          "data": {
            "text/plain": [
              "count     56.000000\n",
              "mean     258.339286\n",
              "std      164.577064\n",
              "min       44.000000\n",
              "25%      141.000000\n",
              "50%      235.000000\n",
              "75%      332.250000\n",
              "max      992.000000\n",
              "dtype: float64"
            ]
          },
          "metadata": {
            "tags": []
          },
          "execution_count": 54
        }
      ]
    },
    {
      "cell_type": "code",
      "metadata": {
        "id": "AY_uinnF-0co",
        "colab_type": "code",
        "colab": {}
      },
      "source": [
        "maxlen = 256#1024 # None to Infer it \n",
        "# maxlen: Optional Int, maximum length of all sequences. If not provided, sequences will be padded to the length of the longest individual sequence\n",
        "\n",
        "x_train = pad_sequences(x_train, maxlen=maxlen, padding='pre', truncating='pre') # prehaps pre is ideal: https://stackoverflow.com/a/51825971\n",
        "y_train = pad_sequences(y_train, maxlen=maxlen, padding='pre', truncating='pre')"
      ],
      "execution_count": 0,
      "outputs": []
    },
    {
      "cell_type": "code",
      "metadata": {
        "id": "w8GkHpsH-0c4",
        "colab_type": "code",
        "colab": {
          "base_uri": "https://localhost:8080/",
          "height": 34
        },
        "outputId": "2a6791b9-91fb-48d9-9ea9-d2499e85ddd0"
      },
      "source": [
        "from tensorflow.keras.models import Sequential, load_model\n",
        "from tensorflow.keras.layers import GRU, LSTM, Dense, Input, Embedding, Dropout, Bidirectional \n",
        "from tensorflow.keras.optimizers import Adam\n",
        "from tensorflow.keras.regularizers import l2\n",
        "from tensorflow.keras.losses import SparseCategoricalCrossentropy\n",
        "from tensorflow.keras.callbacks import ModelCheckpoint\n",
        "import gc\n",
        "gc.collect()"
      ],
      "execution_count": 56,
      "outputs": [
        {
          "output_type": "execute_result",
          "data": {
            "text/plain": [
              "124"
            ]
          },
          "metadata": {
            "tags": []
          },
          "execution_count": 56
        }
      ]
    },
    {
      "cell_type": "code",
      "metadata": {
        "id": "zaEAkQ1T-0dE",
        "colab_type": "code",
        "colab": {
          "base_uri": "https://localhost:8080/",
          "height": 252
        },
        "outputId": "bba3de98-9458-4fbf-c8b1-759deb0682e0"
      },
      "source": [
        "vocab_size = len(tokenizer.word_index) + 1 # 8526 for eminem; \n",
        "embedding_dim = 1024 # 128\n",
        "bridge = int(vocab_size/3)\n",
        "\n",
        "model = Sequential()\n",
        "\n",
        "model.add(Embedding(input_dim=vocab_size, output_dim=embedding_dim, mask_zero=True))\n",
        "model.add(Bidirectional(LSTM(embedding_dim, return_sequences=True)))\n",
        "\n",
        "# model.add(Dense(embedding_dim)) # I found this to work well in LSTMs for regression\n",
        "# model.add(Bidirectional(LSTM(embedding_dim, return_sequences=True)))\n",
        "\n",
        "model.add(Dense(vocab_size))\n",
        "\n",
        "opt = Adam(learning_rate=0.001) # 0.001 is default # 00025\n",
        "best = ModelCheckpoint('.mdl_wts.hdf5', save_best_only=True, monitor='loss', mode='min')\n",
        "\n",
        "model.compile(optimizer=opt, loss=SparseCategoricalCrossentropy(from_logits=True)) # normally, I would have this set to false, and have my output layer have h <- sigmoid; were h is the activation function\n",
        "\n",
        "model.summary()"
      ],
      "execution_count": 70,
      "outputs": [
        {
          "output_type": "stream",
          "text": [
            "Model: \"sequential_2\"\n",
            "_________________________________________________________________\n",
            "Layer (type)                 Output Shape              Param #   \n",
            "=================================================================\n",
            "embedding_2 (Embedding)      (None, None, 1024)        2079744   \n",
            "_________________________________________________________________\n",
            "bidirectional_2 (Bidirection (None, None, 2048)        16785408  \n",
            "_________________________________________________________________\n",
            "dense_2 (Dense)              (None, None, 2031)        4161519   \n",
            "=================================================================\n",
            "Total params: 23,026,671\n",
            "Trainable params: 23,026,671\n",
            "Non-trainable params: 0\n",
            "_________________________________________________________________\n"
          ],
          "name": "stdout"
        }
      ]
    },
    {
      "cell_type": "code",
      "metadata": {
        "id": "a-afmZUd-0dL",
        "colab_type": "code",
        "outputId": "1318a704-04a2-43a0-b32b-1a55083acb89",
        "colab": {
          "base_uri": "https://localhost:8080/",
          "height": 151
        }
      },
      "source": [
        "history = model.fit(x_train, y_train, epochs=4, verbose=1,callbacks=[best], validation_split=0.1) # loss should be < 2.0. keep reruning as needed"
      ],
      "execution_count": 71,
      "outputs": [
        {
          "output_type": "stream",
          "text": [
            "Epoch 1/4\n",
            "2/2 [==============================] - 6s 3s/step - loss: 5.9115 - val_loss: 5.9458\n",
            "Epoch 2/4\n",
            "2/2 [==============================] - 2s 1s/step - loss: 5.6916 - val_loss: 6.1564\n",
            "Epoch 3/4\n",
            "2/2 [==============================] - 2s 1s/step - loss: 5.6406 - val_loss: 5.1837\n",
            "Epoch 4/4\n",
            "2/2 [==============================] - 2s 1s/step - loss: 4.8198 - val_loss: 5.4091\n"
          ],
          "name": "stdout"
        }
      ]
    },
    {
      "cell_type": "code",
      "metadata": {
        "id": "eF9Z5xlkQ3Nm",
        "colab_type": "code",
        "colab": {}
      },
      "source": [
        "model.save(\"model_biListm_X_pre.h5\")\n",
        "#model = load_model(\"model.h5\")"
      ],
      "execution_count": 0,
      "outputs": []
    },
    {
      "cell_type": "code",
      "metadata": {
        "id": "SrchgcJv-0dZ",
        "colab_type": "code",
        "colab": {}
      },
      "source": [
        "def generate(word):\n",
        "    # word = clean_text(word)\n",
        "    inputs = np.zeros((1, 1))\n",
        "    inputs[0, 0] = word2idx[word]\n",
        "    count = 1\n",
        "    while count <= 50:\n",
        "        pred = model.predict(inputs)\n",
        "        word = np.argmax(pred)\n",
        "        if word >= vocab_size:\n",
        "            word = vocab_size - 1\n",
        "\n",
        "        inputs[0, 0] = word\n",
        "        \n",
        "        print(idx2word[word], end=\" \")\n",
        "        count += 1\n"
      ],
      "execution_count": 0,
      "outputs": []
    },
    {
      "cell_type": "code",
      "metadata": {
        "id": "tQoTjmtY-0dh",
        "colab_type": "code",
        "outputId": "b6c77df9-1718-4ead-dd0e-17469bdb857b",
        "colab": {
          "base_uri": "https://localhost:8080/",
          "height": 54
        }
      },
      "source": [
        "generate(\"more\")"
      ],
      "execution_count": 78,
      "outputs": [
        {
          "output_type": "stream",
          "text": [
            "i am am am am am am am am am am am am am am am am am am am am am am am am am am am am am am am am am am am am am am am am am am am am am am am am am "
          ],
          "name": "stdout"
        }
      ]
    },
    {
      "cell_type": "code",
      "metadata": {
        "id": "nWoOF4cwkp3l",
        "colab_type": "code",
        "outputId": "3fb1d4b7-a9fd-41be-f37b-fe845210aad3",
        "colab": {
          "base_uri": "https://localhost:8080/",
          "height": 282
        }
      },
      "source": [
        "import matplotlib.pyplot as plt\n",
        "\n",
        "plt.plot(range(len(history.history['loss'])), history.history['loss'])"
      ],
      "execution_count": 74,
      "outputs": [
        {
          "output_type": "execute_result",
          "data": {
            "text/plain": [
              "[<matplotlib.lines.Line2D at 0x7f5d340fe080>]"
            ]
          },
          "metadata": {
            "tags": []
          },
          "execution_count": 74
        },
        {
          "output_type": "display_data",
          "data": {
            "image/png": "[encoded data removed]",
            "text/plain": [
              "<Figure size 432x288 with 1 Axes>"
            ]
          },
          "metadata": {
            "tags": [],
            "needs_background": "light"
          }
        }
      ]
    }
  ]
}