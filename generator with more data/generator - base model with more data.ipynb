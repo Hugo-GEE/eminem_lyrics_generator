{
  "nbformat": 4,
  "nbformat_minor": 0,
  "metadata": {
    "colab": {
      "name": "generator2 - base model with more data.ipynb",
      "provenance": [],
      "collapsed_sections": []
    },
    "kernelspec": {
      "display_name": "Python 3",
      "language": "python",
      "name": "python3"
    },
    "language_info": {
      "codemirror_mode": {
        "name": "ipython",
        "version": 3
      },
      "file_extension": ".py",
      "mimetype": "text/x-python",
      "name": "python",
      "nbconvert_exporter": "python",
      "pygments_lexer": "ipython3",
      "version": "3.7.6"
    },
    "accelerator": "GPU"
  },
  "cells": [
    {
      "cell_type": "code",
      "metadata": {
        "colab_type": "code",
        "id": "R7RNVjXQ-0ZK",
        "colab": {}
      },
      "source": [
        "import pandas as pd\n",
        "import numpy as np\n",
        "import re\n",
        "import os"
      ],
      "execution_count": 0,
      "outputs": []
    },
    {
      "cell_type": "code",
      "metadata": {
        "id": "3cqD3eTZ6N8-",
        "colab_type": "code",
        "colab": {}
      },
      "source": [
        "URL_web = 'https://github.com/alik604/eminem_lyrics_generator/raw/master/data/preprocessed_data_eminem.csv'\n",
        "URL_local = './data/preprocessed_data_eminem.csv'\n",
        "lines = pd.read_csv(URL_web,index_col=0)"
      ],
      "execution_count": 0,
      "outputs": []
    },
    {
      "cell_type": "code",
      "metadata": {
        "colab_type": "code",
        "id": "d50elWmV-0aV",
        "colab": {}
      },
      "source": [
        "def clean_text(sentence):\n",
        "  sentence = sentence.lower()\n",
        "  sentence = re.sub(r'\\[.*?\\]', \"\", sentence) # https://www.regextester.com/97589 &  https://stackoverflow.com/a/40621332\n",
        "  sentence = re.sub(r\"\\u2005\", \"\", sentence)\n",
        "\n",
        "  sentence = re.sub(r\"’\", \"\\'\", sentence) \n",
        "  sentence = re.sub(r\"‘\", \"\\'\", sentence)\n",
        "  sentence = re.sub(r\"i'm\", \"i am\", sentence)\n",
        "  sentence = re.sub(r\"he's\", \"he is\", sentence)\n",
        "  sentence = re.sub(r\"she's\", \"she is\", sentence)\n",
        "  sentence = re.sub(r\"it's\", \"it is\", sentence)\n",
        "  sentence = re.sub(r\"that's\", \"that is\", sentence)\n",
        "  sentence = re.sub(r\"what's\", \"what is\", sentence)\n",
        "  sentence = re.sub(r\"where's\", \"where is\", sentence)\n",
        "  sentence = re.sub(r\"there's\", \"there is\", sentence)\n",
        "  sentence = re.sub(r\"who's\", \"who is\", sentence)\n",
        "  sentence = re.sub(r\"how's\", \"how is\", sentence)\n",
        "  sentence = re.sub(r\"\\'ll\", \" will\", sentence)\n",
        "  sentence = re.sub(r\"\\'ve\", \" have\", sentence)\n",
        "  sentence = re.sub(r\"\\'re\", \" are\", sentence)\n",
        "  sentence = re.sub(r\"\\'d\", \" would\", sentence)\n",
        "  sentence = re.sub(r\"won't\", \"will not\", sentence)\n",
        "  sentence = re.sub(r\"can't\", \"cannot\", sentence)\n",
        "  sentence = re.sub(r\"n't\", \" not\", sentence)\n",
        "  sentence = re.sub(r\"n'\", \"ng\", sentence)\n",
        "  sentence = re.sub(r\"\\'bout\", \"about\", sentence)\n",
        "  sentence = re.sub(r\"'til\", \"until\", sentence)\n",
        "  sentence = re.sub(r\"c'mon\", \"come on\", sentence)\n",
        "  sentence = re.sub(\"\\n\", \" \", sentence)\n",
        "\n",
        "  sentence = re.sub(r\"\\u2005\", \"\", sentence)\n",
        "  sentence = re.sub(\"[-*/()\\\"’‘'#/@;:<>{}`+=~|.!?,]\", \"\", sentence) # should it be:  \\'   rather than '   \n",
        "  sentence = re.sub(r\"'\", \"\", sentence)\n",
        "  sentence = re.sub(r\"\\t\", \"\", sentence)\n",
        "  sentence = re.sub(r\"  \", \" \", sentence)\n",
        "  sentence = re.sub(r\"  \", \" \", sentence)\n",
        "  return sentence\n",
        "\n",
        "lines.lines = lines.lines.apply(lambda line: clean_text(line))"
      ],
      "execution_count": 0,
      "outputs": []
    },
    {
      "cell_type": "code",
      "metadata": {
        "colab_type": "code",
        "id": "1LO3UQhl-0al",
        "outputId": "46eec582-f006-44a2-eec3-880ef0282e0c",
        "colab": {
          "base_uri": "https://localhost:8080/",
          "height": 204
        }
      },
      "source": [
        "lines.head()"
      ],
      "execution_count": 5,
      "outputs": [
        {
          "output_type": "execute_result",
          "data": {
            "text/html": [
              "<div>\n",
              "<style scoped>\n",
              "    .dataframe tbody tr th:only-of-type {\n",
              "        vertical-align: middle;\n",
              "    }\n",
              "\n",
              "    .dataframe tbody tr th {\n",
              "        vertical-align: top;\n",
              "    }\n",
              "\n",
              "    .dataframe thead th {\n",
              "        text-align: right;\n",
              "    }\n",
              "</style>\n",
              "<table border=\"1\" class=\"dataframe\">\n",
              "  <thead>\n",
              "    <tr style=\"text-align: right;\">\n",
              "      <th></th>\n",
              "      <th>lines</th>\n",
              "    </tr>\n",
              "  </thead>\n",
              "  <tbody>\n",
              "    <tr>\n",
              "      <th>0</th>\n",
              "      <td>look i was gonna go easy on you not to hurt y...</td>\n",
              "    </tr>\n",
              "    <tr>\n",
              "      <th>1</th>\n",
              "      <td>you sound like a bitch bitch shut the fuck up...</td>\n",
              "    </tr>\n",
              "    <tr>\n",
              "      <th>2</th>\n",
              "      <td>look if you had one shot or one opportunity t...</td>\n",
              "    </tr>\n",
              "    <tr>\n",
              "      <th>3</th>\n",
              "      <td>i am friends with the monster that is under m...</td>\n",
              "    </tr>\n",
              "    <tr>\n",
              "      <th>4</th>\n",
              "      <td>ugh you are a monster i can swallow a bottle ...</td>\n",
              "    </tr>\n",
              "  </tbody>\n",
              "</table>\n",
              "</div>"
            ],
            "text/plain": [
              "                                               lines\n",
              "0   look i was gonna go easy on you not to hurt y...\n",
              "1   you sound like a bitch bitch shut the fuck up...\n",
              "2   look if you had one shot or one opportunity t...\n",
              "3   i am friends with the monster that is under m...\n",
              "4   ugh you are a monster i can swallow a bottle ..."
            ]
          },
          "metadata": {
            "tags": []
          },
          "execution_count": 5
        }
      ]
    },
    {
      "cell_type": "code",
      "metadata": {
        "colab_type": "code",
        "id": "sYDJq60DiwpR",
        "outputId": "00fc62f0-81fe-4778-c48e-1510cc4cb680",
        "colab": {
          "base_uri": "https://localhost:8080/",
          "height": 34
        }
      },
      "source": [
        "lines.shape"
      ],
      "execution_count": 6,
      "outputs": [
        {
          "output_type": "execute_result",
          "data": {
            "text/plain": [
              "(84, 1)"
            ]
          },
          "metadata": {
            "tags": []
          },
          "execution_count": 6
        }
      ]
    },
    {
      "cell_type": "code",
      "metadata": {
        "colab_type": "code",
        "id": "VKEfXByiFq_5",
        "colab": {}
      },
      "source": [
        "lines.lines = lines.lines.apply(lambda line: line.split())"
      ],
      "execution_count": 0,
      "outputs": []
    },
    {
      "cell_type": "code",
      "metadata": {
        "colab_type": "code",
        "id": "EX8mMxFv-0a5",
        "colab": {}
      },
      "source": [
        "x_train = [line[:-1] for line in lines.lines]\n",
        "y_train = [line[1:] for line in lines.lines]"
      ],
      "execution_count": 0,
      "outputs": []
    },
    {
      "cell_type": "code",
      "metadata": {
        "colab_type": "code",
        "id": "t6cueFD--0bb",
        "colab": {}
      },
      "source": [
        "from tensorflow.keras.preprocessing.text import Tokenizer\n",
        "from tensorflow.keras.preprocessing.sequence import pad_sequences"
      ],
      "execution_count": 0,
      "outputs": []
    },
    {
      "cell_type": "code",
      "metadata": {
        "colab_type": "code",
        "id": "tT51cTsN-0bm",
        "colab": {}
      },
      "source": [
        "tokenizer = Tokenizer()"
      ],
      "execution_count": 0,
      "outputs": []
    },
    {
      "cell_type": "code",
      "metadata": {
        "colab_type": "code",
        "id": "wsTwQX2a-0by",
        "colab": {}
      },
      "source": [
        "tokenizer.fit_on_texts(lines.lines)"
      ],
      "execution_count": 0,
      "outputs": []
    },
    {
      "cell_type": "code",
      "metadata": {
        "colab_type": "code",
        "id": "xyZARYVe-0b-",
        "colab": {}
      },
      "source": [
        "x_train = tokenizer.texts_to_sequences(x_train)\n",
        "y_train = tokenizer.texts_to_sequences(y_train)"
      ],
      "execution_count": 0,
      "outputs": []
    },
    {
      "cell_type": "code",
      "metadata": {
        "colab_type": "code",
        "id": "JivHjswYQqsD",
        "colab": {}
      },
      "source": [
        "word2idx = tokenizer.word_index\n",
        "idx2word = {value: key for key, value in word2idx.items()}"
      ],
      "execution_count": 0,
      "outputs": []
    },
    {
      "cell_type": "code",
      "metadata": {
        "colab_type": "code",
        "id": "gc1P4IYWlDzV",
        "colab": {}
      },
      "source": [
        "word2idx[\"<pad>\"] = 0\n",
        "idx2word[0] = \"<pad>\""
      ],
      "execution_count": 0,
      "outputs": []
    },
    {
      "cell_type": "code",
      "metadata": {
        "colab_type": "code",
        "id": "hYmlGZ8E-0cQ",
        "outputId": "87a550a1-f820-4527-e0e4-aa693a161c0a",
        "colab": {
          "base_uri": "https://localhost:8080/",
          "height": 170
        }
      },
      "source": [
        "lengths = []\n",
        "\n",
        "for sequence in x_train:\n",
        "    lengths.append(len(sequence))\n",
        "    \n",
        "lengths = pd.Series(lengths)\n",
        "lengths.describe()"
      ],
      "execution_count": 15,
      "outputs": [
        {
          "output_type": "execute_result",
          "data": {
            "text/plain": [
              "count      84.000000\n",
              "mean      968.416667\n",
              "std       266.926559\n",
              "min       114.000000\n",
              "25%       800.500000\n",
              "50%       919.000000\n",
              "75%      1076.750000\n",
              "max      1784.000000\n",
              "dtype: float64"
            ]
          },
          "metadata": {
            "tags": []
          },
          "execution_count": 15
        }
      ]
    },
    {
      "cell_type": "code",
      "metadata": {
        "colab_type": "code",
        "id": "v3IdStVW-0ch",
        "outputId": "5aa29bcb-e56b-4780-8244-1eb220c121a9",
        "colab": {
          "base_uri": "https://localhost:8080/",
          "height": 34
        }
      },
      "source": [
        "maxlen = 1024\n",
        "vocab_size = len(tokenizer.word_index) + 1\n",
        "embedding_dim = 128\n",
        "vocab_size"
      ],
      "execution_count": 16,
      "outputs": [
        {
          "output_type": "execute_result",
          "data": {
            "text/plain": [
              "8526"
            ]
          },
          "metadata": {
            "tags": []
          },
          "execution_count": 16
        }
      ]
    },
    {
      "cell_type": "code",
      "metadata": {
        "colab_type": "code",
        "id": "AY_uinnF-0co",
        "colab": {}
      },
      "source": [
        "x_train = pad_sequences(x_train, maxlen=maxlen, padding='post', truncating='post')\n",
        "y_train = pad_sequences(y_train, maxlen=maxlen, padding='post', truncating='post')"
      ],
      "execution_count": 0,
      "outputs": []
    },
    {
      "cell_type": "code",
      "metadata": {
        "colab_type": "code",
        "id": "w8GkHpsH-0c4",
        "colab": {}
      },
      "source": [
        "from tensorflow.keras.models import Sequential, load_model\n",
        "from tensorflow.keras.layers import GRU, Dense, Input, Embedding, Dropout\n",
        "from tensorflow.keras.optimizers import Adam\n",
        "from tensorflow.keras.regularizers import l2\n",
        "from tensorflow.keras.losses import SparseCategoricalCrossentropy"
      ],
      "execution_count": 0,
      "outputs": []
    },
    {
      "cell_type": "code",
      "metadata": {
        "colab_type": "code",
        "id": "zaEAkQ1T-0dE",
        "colab": {}
      },
      "source": [
        "model = Sequential()\n",
        "model.add(Embedding(input_dim=vocab_size, output_dim=embedding_dim, mask_zero=True))\n",
        "model.add(GRU(units=1024, return_sequences=True))\n",
        "model.add(Dense(vocab_size))"
      ],
      "execution_count": 0,
      "outputs": []
    },
    {
      "cell_type": "code",
      "metadata": {
        "colab_type": "code",
        "id": "a-afmZUd-0dL",
        "colab": {}
      },
      "source": [
        "model.compile(optimizer=Adam(), loss=SparseCategoricalCrossentropy(from_logits=True))"
      ],
      "execution_count": 0,
      "outputs": []
    },
    {
      "cell_type": "code",
      "metadata": {
        "colab_type": "code",
        "id": "uVKkvmpb-0dQ",
        "outputId": "1bdc4c2f-d418-4b70-eb1d-64106efa556e",
        "colab": {
          "base_uri": "https://localhost:8080/",
          "height": 1000
        }
      },
      "source": [
        "history = model.fit(x_train, y_train, epochs=50, verbose=1) #400"
      ],
      "execution_count": 21,
      "outputs": [
        {
          "output_type": "stream",
          "text": [
            "Epoch 1/50\n",
            "3/3 [==============================] - 1s 301ms/step - loss: 7.8615\n",
            "Epoch 2/50\n",
            "3/3 [==============================] - 1s 293ms/step - loss: 7.7088\n",
            "Epoch 3/50\n",
            "3/3 [==============================] - 1s 292ms/step - loss: 5.8166\n",
            "Epoch 4/50\n",
            "3/3 [==============================] - 1s 294ms/step - loss: 5.7300\n",
            "Epoch 5/50\n",
            "3/3 [==============================] - 1s 293ms/step - loss: 5.6921\n",
            "Epoch 6/50\n",
            "3/3 [==============================] - 1s 290ms/step - loss: 5.6479\n",
            "Epoch 7/50\n",
            "3/3 [==============================] - 1s 293ms/step - loss: 5.6089\n",
            "Epoch 8/50\n",
            "3/3 [==============================] - 1s 294ms/step - loss: 5.6140\n",
            "Epoch 9/50\n",
            "3/3 [==============================] - 1s 290ms/step - loss: 5.5925\n",
            "Epoch 10/50\n",
            "3/3 [==============================] - 1s 293ms/step - loss: 5.5906\n",
            "Epoch 11/50\n",
            "3/3 [==============================] - 1s 292ms/step - loss: 5.5847\n",
            "Epoch 12/50\n",
            "3/3 [==============================] - 1s 291ms/step - loss: 5.5742\n",
            "Epoch 13/50\n",
            "3/3 [==============================] - 1s 293ms/step - loss: 5.5696\n",
            "Epoch 14/50\n",
            "3/3 [==============================] - 1s 292ms/step - loss: 5.5697\n",
            "Epoch 15/50\n",
            "3/3 [==============================] - 1s 292ms/step - loss: 5.5663\n",
            "Epoch 16/50\n",
            "3/3 [==============================] - 1s 292ms/step - loss: 5.5644\n",
            "Epoch 17/50\n",
            "3/3 [==============================] - 1s 293ms/step - loss: 5.6029\n",
            "Epoch 18/50\n",
            "3/3 [==============================] - 1s 291ms/step - loss: 5.5930\n",
            "Epoch 19/50\n",
            "3/3 [==============================] - 1s 292ms/step - loss: 5.5850\n",
            "Epoch 20/50\n",
            "3/3 [==============================] - 1s 290ms/step - loss: 5.5489\n",
            "Epoch 21/50\n",
            "3/3 [==============================] - 1s 293ms/step - loss: 5.5669\n",
            "Epoch 22/50\n",
            "3/3 [==============================] - 1s 291ms/step - loss: 5.5584\n",
            "Epoch 23/50\n",
            "3/3 [==============================] - 1s 290ms/step - loss: 5.5449\n",
            "Epoch 24/50\n",
            "3/3 [==============================] - 1s 291ms/step - loss: 5.5330\n",
            "Epoch 25/50\n",
            "3/3 [==============================] - 1s 290ms/step - loss: 5.5138\n",
            "Epoch 26/50\n",
            "3/3 [==============================] - 1s 292ms/step - loss: 5.4947\n",
            "Epoch 27/50\n",
            "3/3 [==============================] - 1s 294ms/step - loss: 5.4664\n",
            "Epoch 28/50\n",
            "3/3 [==============================] - 1s 292ms/step - loss: 5.4406\n",
            "Epoch 29/50\n",
            "3/3 [==============================] - 1s 295ms/step - loss: 5.4092\n",
            "Epoch 30/50\n",
            "3/3 [==============================] - 1s 293ms/step - loss: 5.3746\n",
            "Epoch 31/50\n",
            "3/3 [==============================] - 1s 291ms/step - loss: 5.3407\n",
            "Epoch 32/50\n",
            "3/3 [==============================] - 1s 293ms/step - loss: 5.3084\n",
            "Epoch 33/50\n",
            "3/3 [==============================] - 1s 291ms/step - loss: 5.2789\n",
            "Epoch 34/50\n",
            "3/3 [==============================] - 1s 293ms/step - loss: 5.2467\n",
            "Epoch 35/50\n",
            "3/3 [==============================] - 1s 291ms/step - loss: 5.2148\n",
            "Epoch 36/50\n",
            "3/3 [==============================] - 1s 292ms/step - loss: 5.1838\n",
            "Epoch 37/50\n",
            "3/3 [==============================] - 1s 292ms/step - loss: 5.1449\n",
            "Epoch 38/50\n",
            "3/3 [==============================] - 1s 295ms/step - loss: 5.1125\n",
            "Epoch 39/50\n",
            "3/3 [==============================] - 1s 289ms/step - loss: 5.0762\n",
            "Epoch 40/50\n",
            "3/3 [==============================] - 1s 292ms/step - loss: 5.0407\n",
            "Epoch 41/50\n",
            "3/3 [==============================] - 1s 292ms/step - loss: 5.0066\n",
            "Epoch 42/50\n",
            "3/3 [==============================] - 1s 291ms/step - loss: 4.9720\n",
            "Epoch 43/50\n",
            "3/3 [==============================] - 1s 295ms/step - loss: 4.9371\n",
            "Epoch 44/50\n",
            "3/3 [==============================] - 1s 292ms/step - loss: 4.9081\n",
            "Epoch 45/50\n",
            "3/3 [==============================] - 1s 290ms/step - loss: 4.8775\n",
            "Epoch 46/50\n",
            "3/3 [==============================] - 1s 293ms/step - loss: 4.8472\n",
            "Epoch 47/50\n",
            "3/3 [==============================] - 1s 294ms/step - loss: 4.8179\n",
            "Epoch 48/50\n",
            "3/3 [==============================] - 1s 295ms/step - loss: 4.7896\n",
            "Epoch 49/50\n",
            "3/3 [==============================] - 1s 293ms/step - loss: 4.7646\n",
            "Epoch 50/50\n",
            "3/3 [==============================] - 1s 293ms/step - loss: 4.7406\n"
          ],
          "name": "stdout"
        }
      ]
    },
    {
      "cell_type": "code",
      "metadata": {
        "colab_type": "code",
        "id": "eF9Z5xlkQ3Nm",
        "colab": {}
      },
      "source": [
        "# model.save(\"model.h5\")\n",
        "# model = load_model(\"model.h5\")"
      ],
      "execution_count": 0,
      "outputs": []
    },
    {
      "cell_type": "code",
      "metadata": {
        "colab_type": "code",
        "id": "SrchgcJv-0dZ",
        "colab": {}
      },
      "source": [
        "def generate(word):\n",
        "    word = clean_text(word)\n",
        "    inputs = np.zeros((1, 1))\n",
        "    inputs[0, 0] = word2idx[word]\n",
        "    count = 1\n",
        "    while count <= 100:\n",
        "        pred = model.predict(inputs)\n",
        "        word = np.argmax(pred)\n",
        "        if word >= vocab_size:\n",
        "            word = vocab_size - 1\n",
        "\n",
        "        inputs[0, 0] = word\n",
        "        \n",
        "        print(idx2word[word], end=\" \")\n",
        "        count += 1\n"
      ],
      "execution_count": 0,
      "outputs": []
    },
    {
      "cell_type": "code",
      "metadata": {
        "colab_type": "code",
        "id": "tQoTjmtY-0dh",
        "outputId": "9f245f6e-f597-4a5f-85f1-1bd5ece0289a",
        "colab": {
          "base_uri": "https://localhost:8080/",
          "height": 71
        }
      },
      "source": [
        "print('slim: ', generate(\"slim\"))\n",
        "print('kill: ', generate(\"kill\"))"
      ],
      "execution_count": 30,
      "outputs": [
        {
          "output_type": "stream",
          "text": [
            "it is not am hitting least am hitting least am hitting least am hitting least am hitting least am hitting least am hitting least am hitting least am hitting least am hitting least am hitting least am hitting least am hitting least am hitting least am hitting least am hitting least am hitting least am hitting least am hitting least am hitting least am hitting least am hitting least am hitting least am hitting least am hitting least am hitting least am hitting least am hitting least am hitting least am hitting least am hitting least am hitting least am slim:  None\n",
            "least am hitting least am hitting least am hitting least am hitting least am hitting least am hitting least am hitting least am hitting least am hitting least am hitting least am hitting least am hitting least am hitting least am hitting least am hitting least am hitting least am hitting least am hitting least am hitting least am hitting least am hitting least am hitting least am hitting least am hitting least am hitting least am hitting least am hitting least am hitting least am hitting least am hitting least am hitting least am hitting least am hitting least kill:  None\n"
          ],
          "name": "stdout"
        }
      ]
    },
    {
      "cell_type": "code",
      "metadata": {
        "colab_type": "code",
        "id": "nWoOF4cwkp3l",
        "outputId": "b61af38e-7cbf-4637-84e4-178b1d60ef9b",
        "colab": {
          "base_uri": "https://localhost:8080/",
          "height": 285
        }
      },
      "source": [
        "import matplotlib.pyplot as plt\n",
        "\n",
        "plt.plot(range(50), history.history['loss'])"
      ],
      "execution_count": 25,
      "outputs": [
        {
          "output_type": "execute_result",
          "data": {
            "text/plain": [
              "[<matplotlib.lines.Line2D at 0x7f5fe2e58f60>]"
            ]
          },
          "metadata": {
            "tags": []
          },
          "execution_count": 25
        },
        {
          "output_type": "display_data",
          "data": {
            "image/png": "[encoded data removed]",
            "text/plain": [
              "<Figure size 432x288 with 1 Axes>"
            ]
          },
          "metadata": {
            "tags": [],
            "needs_background": "light"
          }
        }
      ]
    },
    {
      "cell_type": "code",
      "metadata": {
        "colab_type": "code",
        "id": "4-PKQnIuXZF1",
        "colab": {
          "base_uri": "https://localhost:8080/",
          "height": 187
        },
        "outputId": "6e8a96ed-3d1e-4883-987f-affa9565b299"
      },
      "source": [
        "model.compile(optimizer=Adam(), loss=SparseCategoricalCrossentropy(from_logits=True))\n",
        "history = model.fit(x_train, y_train, epochs=5, verbose=1)"
      ],
      "execution_count": 31,
      "outputs": [
        {
          "output_type": "stream",
          "text": [
            "Epoch 1/5\n",
            "3/3 [==============================] - 1s 292ms/step - loss: 4.9049\n",
            "Epoch 2/5\n",
            "3/3 [==============================] - 1s 291ms/step - loss: 4.7854\n",
            "Epoch 3/5\n",
            "3/3 [==============================] - 1s 293ms/step - loss: 4.7432\n",
            "Epoch 4/5\n",
            "3/3 [==============================] - 1s 294ms/step - loss: 4.7215\n",
            "Epoch 5/5\n",
            "3/3 [==============================] - 1s 292ms/step - loss: 4.6773\n"
          ],
          "name": "stdout"
        }
      ]
    },
    {
      "cell_type": "code",
      "metadata": {
        "id": "Q-gbTw_F8u_U",
        "colab_type": "code",
        "colab": {
          "base_uri": "https://localhost:8080/",
          "height": 71
        },
        "outputId": "22e40564-b337-4dc1-8e96-b8dc517fc25d"
      },
      "source": [
        "print('slim: ', generate(\"slim\"))\n",
        "print('kill: ', generate(\"kill\"))"
      ],
      "execution_count": 32,
      "outputs": [
        {
          "output_type": "stream",
          "text": [
            "you am hitting syncing syncing syncing syncing syncing syncing syncing syncing syncing syncing syncing syncing syncing syncing syncing syncing syncing syncing syncing syncing syncing syncing syncing syncing syncing syncing syncing syncing syncing syncing syncing syncing syncing syncing syncing syncing syncing syncing syncing syncing syncing syncing syncing syncing syncing syncing syncing syncing syncing syncing syncing syncing syncing syncing syncing syncing syncing syncing syncing syncing syncing syncing syncing syncing syncing syncing syncing syncing syncing syncing syncing syncing syncing syncing syncing syncing syncing syncing syncing syncing syncing syncing syncing syncing syncing syncing syncing syncing syncing syncing syncing syncing syncing syncing syncing syncing syncing slim:  None\n",
            "least know you am hitting syncing syncing syncing syncing syncing syncing syncing syncing syncing syncing syncing syncing syncing syncing syncing syncing syncing syncing syncing syncing syncing syncing syncing syncing syncing syncing syncing syncing syncing syncing syncing syncing syncing syncing syncing syncing syncing syncing syncing syncing syncing syncing syncing syncing syncing syncing syncing syncing syncing syncing syncing syncing syncing syncing syncing syncing syncing syncing syncing syncing syncing syncing syncing syncing syncing syncing syncing syncing syncing syncing syncing syncing syncing syncing syncing syncing syncing syncing syncing syncing syncing syncing syncing syncing syncing syncing syncing syncing syncing syncing syncing syncing syncing syncing syncing kill:  None\n"
          ],
          "name": "stdout"
        }
      ]
    }
  ]
}