{
 "cells": [
  {
   "cell_type": "code",
   "execution_count": 2,
   "metadata": {},
   "outputs": [
    {
     "name": "stdout",
     "output_type": "stream",
     "text": [
      "Requirement already satisfied: lyricsgenius in c:\\users\\kali\\anaconda3\\lib\\site-packages (1.8.5)\n",
      "Requirement already satisfied: beautifulsoup4==4.6.0 in c:\\users\\kali\\anaconda3\\lib\\site-packages (from lyricsgenius) (4.6.0)\n",
      "Requirement already satisfied: requests>=2.20.0 in c:\\users\\kali\\anaconda3\\lib\\site-packages (from lyricsgenius) (2.23.0)\n",
      "Requirement already satisfied: idna<3,>=2.5 in c:\\users\\kali\\anaconda3\\lib\\site-packages (from requests>=2.20.0->lyricsgenius) (2.9)\n",
      "Requirement already satisfied: certifi>=2017.4.17 in c:\\users\\kali\\anaconda3\\lib\\site-packages (from requests>=2.20.0->lyricsgenius) (2020.4.5.1)\n",
      "Requirement already satisfied: urllib3!=1.25.0,!=1.25.1,<1.26,>=1.21.1 in c:\\users\\kali\\anaconda3\\lib\\site-packages (from requests>=2.20.0->lyricsgenius) (1.25.8)\n",
      "Requirement already satisfied: chardet<4,>=3.0.2 in c:\\users\\kali\\anaconda3\\lib\\site-packages (from requests>=2.20.0->lyricsgenius) (3.0.4)\n"
     ]
    }
   ],
   "source": [
    "!pip install lyricsgenius\n",
    "import lyricsgenius\n",
    "\n",
    "import pandas as pd\n",
    "import numpy as np\n",
    "import re\n",
    "import os\n",
    "import json"
   ]
  },
  {
   "cell_type": "code",
   "execution_count": 3,
   "metadata": {},
   "outputs": [],
   "source": [
    "artist_name = 'Eminem'"
   ]
  },
  {
   "cell_type": "code",
   "execution_count": 4,
   "metadata": {},
   "outputs": [
    {
     "name": "stdout",
     "output_type": "stream",
     "text": [
      "Searching for songs by Eminem...\n",
      "\n",
      "Song 1: \"Rap God\"\n",
      "\n",
      "Reached user-specified song limit (1).\n",
      "Done. Found 1 songs.\n",
      "lyrics_eminem_rapgod.json already exists. Overwrite?\n",
      "(y/n): y\n",
      "Wrote Rap God to lyrics_eminem_rapgod.json.\n"
     ]
    }
   ],
   "source": [
    "genius = lyricsgenius.Genius(\"8AO32_nfbxk_8yNyBYJTnw_4qRjT2Uid1pMSW_XJ_56sBsnNLuXeKxwMMEZmQrQN\") # this is a valid key :) \n",
    "artist = genius.search_artist(artist_name, max_songs=1, sort='popularity') # XXXTENTACION \n",
    "for i in range(1):\n",
    "  artist.songs[i].save_lyrics()"
   ]
  },
  {
   "cell_type": "code",
   "execution_count": 6,
   "metadata": {},
   "outputs": [
    {
     "name": "stdout",
     "output_type": "stream",
     "text": [
      "4\n"
     ]
    }
   ],
   "source": [
    "lines = []\n",
    "i = 1\n",
    "for root, dirs, files in os.walk('./'):\n",
    "    for file in files:\n",
    "        if file.endswith('.json') and artist_name.lower() in file:\n",
    "            file = open(\"./\" + file)\n",
    "            json_data = file.read()\n",
    "            data = json.loads(json_data)\n",
    "            lines.append(data['lyrics'])\n",
    "            i +=1\n",
    "print(i)\n",
    "lines = list(filter(None, lines))\n",
    "# lines"
   ]
  },
  {
   "cell_type": "code",
   "execution_count": 8,
   "metadata": {},
   "outputs": [],
   "source": [
    "def clean_text(sentence):\n",
    "  sentence = sentence.lower()\n",
    "  sentence = re.sub(r'\\[.*?\\]', \"\", sentence) # https://www.regextester.com/97589 &  https://stackoverflow.com/a/40621332\n",
    "  sentence = re.sub(r\"\\u2005\", \"\", sentence)\n",
    "\n",
    "  sentence = re.sub(r\"’\", \"\\'\", sentence) \n",
    "  sentence = re.sub(r\"‘\", \"\\'\", sentence)\n",
    "  sentence = re.sub(r\"i'm\", \"i am\", sentence)\n",
    "  sentence = re.sub(r\"he's\", \"he is\", sentence)\n",
    "  sentence = re.sub(r\"she's\", \"she is\", sentence)\n",
    "  sentence = re.sub(r\"it's\", \"it is\", sentence)\n",
    "  sentence = re.sub(r\"that's\", \"that is\", sentence)\n",
    "  sentence = re.sub(r\"what's\", \"what is\", sentence)\n",
    "  sentence = re.sub(r\"where's\", \"where is\", sentence)\n",
    "  sentence = re.sub(r\"there's\", \"there is\", sentence)\n",
    "  sentence = re.sub(r\"who's\", \"who is\", sentence)\n",
    "  sentence = re.sub(r\"how's\", \"how is\", sentence)\n",
    "  sentence = re.sub(r\"\\'ll\", \" will\", sentence)\n",
    "  sentence = re.sub(r\"\\'ve\", \" have\", sentence)\n",
    "  sentence = re.sub(r\"\\'re\", \" are\", sentence)\n",
    "  sentence = re.sub(r\"\\'d\", \" would\", sentence)\n",
    "  sentence = re.sub(r\"won't\", \"will not\", sentence)\n",
    "  sentence = re.sub(r\"can't\", \"cannot\", sentence)\n",
    "  sentence = re.sub(r\"n't\", \" not\", sentence)\n",
    "  sentence = re.sub(r\"n'\", \"ng\", sentence)\n",
    "  sentence = re.sub(r\"\\'bout\", \"about\", sentence)\n",
    "  sentence = re.sub(r\"'til\", \"until\", sentence)\n",
    "  sentence = re.sub(r\"c'mon\", \"come on\", sentence)\n",
    "  sentence = re.sub(\"\\n\", \" \", sentence)\n",
    "\n",
    "  sentence = re.sub(r\"\\u2005\", \"\", sentence)\n",
    "  sentence = re.sub(\"[-*/()\\\"’‘'#/@;:<>{}`+=~|.!?,]\", \"\", sentence) # should it be:  \\'   rather than '   \n",
    "  sentence = re.sub(r\"'\", \"\", sentence)\n",
    "  sentence = re.sub(r\"\\t\", \"\", sentence)\n",
    "  sentence = re.sub(r\"  \", \" \", sentence)\n",
    "  sentence = re.sub(r\"  \", \" \", sentence)\n",
    "  return sentence\n",
    "lines = pd.DataFrame(lines, columns=['lines'])\n",
    "lines.lines = lines.lines.apply(lambda line: clean_text(line))\n",
    "lines.values\n",
    "\n",
    "lines.to_csv('./data/preprocessed_data_' + artist_name + '.csv')"
   ]
  },
  {
   "cell_type": "code",
   "execution_count": null,
   "metadata": {},
   "outputs": [],
   "source": []
  },
  {
   "cell_type": "code",
   "execution_count": null,
   "metadata": {},
   "outputs": [],
   "source": []
  },
  {
   "cell_type": "code",
   "execution_count": null,
   "metadata": {},
   "outputs": [],
   "source": []
  }
 ],
 "metadata": {
  "kernelspec": {
   "display_name": "Python 3",
   "language": "python",
   "name": "python3"
  },
  "language_info": {
   "codemirror_mode": {
    "name": "ipython",
    "version": 3
   },
   "file_extension": ".py",
   "mimetype": "text/x-python",
   "name": "python",
   "nbconvert_exporter": "python",
   "pygments_lexer": "ipython3",
   "version": "3.7.6"
  }
 },
 "nbformat": 4,
 "nbformat_minor": 2
}
